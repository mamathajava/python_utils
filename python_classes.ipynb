{
 "cells": [
  {
   "cell_type": "code",
   "execution_count": 1,
   "metadata": {},
   "outputs": [],
   "source": [
    "#introduction to python classes"
   ]
  },
  {
   "cell_type": "code",
   "execution_count": 2,
   "metadata": {},
   "outputs": [],
   "source": [
    "# class is nothing but a blue print of et of instructions to be followed and worked up on\n",
    "# method --->>A function written inside a class is called a method\n",
    "# attributes/periods---->>a variable written inside a class is called an attribute\n",
    "# object-->>instation of an object---to get access to the methods inside a class,these are utilised"
   ]
  },
  {
   "cell_type": "code",
   "execution_count": 3,
   "metadata": {},
   "outputs": [],
   "source": [
    "#req\n",
    "#create a class name\n",
    "# 1.it need to accept the name of user as an argument\n",
    "# 2.display the name\n",
    "# 3.greeting the user"
   ]
  },
  {
   "cell_type": "code",
   "execution_count": 4,
   "metadata": {},
   "outputs": [],
   "source": [
    "# rules inside a class:\n",
    "# method---->>assign it to self\n",
    "# self---->>nothing but a temp. placeholder for an object"
   ]
  },
  {
   "cell_type": "code",
   "execution_count": 80,
   "metadata": {},
   "outputs": [
    {
     "name": "stdout",
     "output_type": "stream",
     "text": [
      "hello,welcome back mam\n",
      "hello,welcome back om\n"
     ]
    }
   ],
   "source": [
    "class name:\n",
    "    \"\"\"\"declaring the functionality\"\"\"\n",
    "    def createname(self,user):\n",
    "        self.user=user\n",
    "    def display(self):\n",
    "        return self.user\n",
    "    def greeting(self):\n",
    "        print(f\"hello,welcome back {self.user}\")\n",
    "    #def main():\n",
    "    abc=name()\n",
    "    abc.createname('mam')\n",
    "    abc.display()\n",
    "    abc.greeting()\n",
    "    cobj=name()\n",
    "    cobj.createname('om')\n",
    "    cobj.display()\n",
    "    cobj.greeting()\n",
    "            \n",
    "            "
   ]
  },
  {
   "cell_type": "code",
   "execution_count": 75,
   "metadata": {},
   "outputs": [
    {
     "data": {
      "text/plain": [
       "'i am var1'"
      ]
     },
     "execution_count": 75,
     "metadata": {},
     "output_type": "execute_result"
    }
   ],
   "source": [
    "class parent:\n",
    "    test1='i am var1'\n",
    "    test2='i am var2'\n",
    "pobj=parent()\n",
    "pobj.test1"
   ]
  },
  {
   "cell_type": "code",
   "execution_count": 101,
   "metadata": {},
   "outputs": [
    {
     "data": {
      "text/plain": [
       "'i am var2'"
      ]
     },
     "execution_count": 101,
     "metadata": {},
     "output_type": "execute_result"
    }
   ],
   "source": [
    "pobj.test2"
   ]
  },
  {
   "cell_type": "code",
   "execution_count": 110,
   "metadata": {},
   "outputs": [
    {
     "data": {
      "text/plain": [
       "'t am a new feature inside a child class'"
      ]
     },
     "execution_count": 110,
     "metadata": {},
     "output_type": "execute_result"
    }
   ],
   "source": [
    "#enhancrement of code\n",
    "class child(parent):\n",
    "    #cobj=child()\n",
    "    #cobj.test1\n",
    " test2='t am a new feature inside a child class'\n",
    "obj=child()\n",
    "cobj.test1\n",
    "cobj.test2"
   ]
  },
  {
   "cell_type": "code",
   "execution_count": 135,
   "metadata": {},
   "outputs": [
    {
     "data": {
      "text/plain": [
       "'hey i am mom'"
      ]
     },
     "execution_count": 135,
     "metadata": {},
     "output_type": "execute_result"
    }
   ],
   "source": [
    "#how to inherit multiple parent classes \n",
    "class mom:\n",
    "  test1='hey i am mom'\n",
    "class dad:\n",
    "  test2='hey i am dad'\n",
    "class child(mom,dad):\n",
    "  test3=\"hey i am kid\"\n",
    "cobj=child()\n",
    "cobj.test1"
   ]
  },
  {
   "cell_type": "code",
   "execution_count": null,
   "metadata": {},
   "outputs": [],
   "source": []
  },
  {
   "cell_type": "code",
   "execution_count": null,
   "metadata": {},
   "outputs": [],
   "source": []
  }
 ],
 "metadata": {
  "kernelspec": {
   "display_name": "Python 3",
   "language": "python",
   "name": "python3"
  },
  "language_info": {
   "codemirror_mode": {
    "name": "ipython",
    "version": 3
   },
   "file_extension": ".py",
   "mimetype": "text/x-python",
   "name": "python",
   "nbconvert_exporter": "python",
   "pygments_lexer": "ipython3",
   "version": "3.7.3"
  }
 },
 "nbformat": 4,
 "nbformat_minor": 2
}
