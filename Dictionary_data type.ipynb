{
 "cells": [
  {
   "cell_type": "code",
   "execution_count": 1,
   "metadata": {},
   "outputs": [],
   "source": [
    "#Dictionary is a key-value pair data type\n",
    "#dict is a mutable data type,we can change/modify/alter.. once its assigned!\n",
    "#dict is defined with ....curley braces {}\n",
    "#by using keys we can access the values in the dictionary\n",
    "#we cannot access the keys by passing the values"
   ]
  },
  {
   "cell_type": "code",
   "execution_count": 2,
   "metadata": {},
   "outputs": [],
   "source": [
    "#Example:name:mamatha\n",
    "#here name is the key amd mamatha is value"
   ]
  },
  {
   "cell_type": "code",
   "execution_count": 4,
   "metadata": {},
   "outputs": [],
   "source": [
    "student_marks={}   #its an empty dictionary"
   ]
  },
  {
   "cell_type": "code",
   "execution_count": 16,
   "metadata": {},
   "outputs": [
    {
     "name": "stdout",
     "output_type": "stream",
     "text": [
      "{'name': 'anji', 'english': 50, 'hindi': 80, 'maths': 90}\n"
     ]
    }
   ],
   "source": [
    "#passing values into empty dictionary students_marks\n",
    "student_marks={'name':'anji','english':50,'hindi':80,'maths':90}\n",
    "print(student_marks)"
   ]
  },
  {
   "cell_type": "code",
   "execution_count": 24,
   "metadata": {},
   "outputs": [
    {
     "data": {
      "text/plain": [
       "'anji'"
      ]
     },
     "execution_count": 24,
     "metadata": {},
     "output_type": "execute_result"
    }
   ],
   "source": [
    "#getting only name value from the dictionary\n",
    "student_marks['name']"
   ]
  },
  {
   "cell_type": "code",
   "execution_count": 53,
   "metadata": {},
   "outputs": [
    {
     "name": "stdout",
     "output_type": "stream",
     "text": [
      "{'name': 'mamatha', 'english': 60, 'hindi': 80}\n"
     ]
    }
   ],
   "source": [
    "#changing the name from anji to mamatha\n",
    "student_marks['name']='mamatha'\n",
    "print(student_marks)"
   ]
  },
  {
   "cell_type": "code",
   "execution_count": 32,
   "metadata": {},
   "outputs": [
    {
     "data": {
      "text/plain": [
       "dict"
      ]
     },
     "execution_count": 32,
     "metadata": {},
     "output_type": "execute_result"
    }
   ],
   "source": [
    "type(student_marks)#validating the data type"
   ]
  },
  {
   "cell_type": "code",
   "execution_count": 52,
   "metadata": {},
   "outputs": [
    {
     "name": "stdout",
     "output_type": "stream",
     "text": [
      "{'name': 'mamatha', 'english': 60, 'hindi': 80}\n"
     ]
    }
   ],
   "source": [
    "student_marks['english']=60\n",
    "print(student_marks)"
   ]
  },
  {
   "cell_type": "code",
   "execution_count": 51,
   "metadata": {},
   "outputs": [
    {
     "name": "stdout",
     "output_type": "stream",
     "text": [
      "{'name': 'mamatha', 'english': 60, 'hindi': 80}\n"
     ]
    }
   ],
   "source": [
    "#del student_marks[\"maths\"]\n",
    "print(student_marks)"
   ]
  },
  {
   "cell_type": "code",
   "execution_count": 58,
   "metadata": {},
   "outputs": [
    {
     "name": "stdout",
     "output_type": "stream",
     "text": [
      "{'name': 'mamatha', 'english': 60, 'hindi': 80, 'maths': 90}\n"
     ]
    }
   ],
   "source": [
    "student_marks['maths']=90#adding an item into the dictionary\n",
    "print(student_marks)"
   ]
  },
  {
   "cell_type": "code",
   "execution_count": 59,
   "metadata": {},
   "outputs": [
    {
     "name": "stdout",
     "output_type": "stream",
     "text": [
      "{'name': 'mamatha', 'english': 60, 'hindi': 80}\n"
     ]
    }
   ],
   "source": [
    "del student_marks['maths']#deleting item from the dictionary \n",
    "print(student_marks)"
   ]
  },
  {
   "cell_type": "code",
   "execution_count": 61,
   "metadata": {},
   "outputs": [
    {
     "name": "stdout",
     "output_type": "stream",
     "text": [
      "{'name': 'mamatha', 'english': 60, 'hindi': 80, 'maths': 90, 'science': 95, 'social': 80}\n"
     ]
    }
   ],
   "source": [
    "student_marks['maths']=90\n",
    "student_marks['science']=95\n",
    "student_marks['social']=80\n",
    "print(student_marks)"
   ]
  },
  {
   "cell_type": "code",
   "execution_count": 66,
   "metadata": {},
   "outputs": [
    {
     "name": "stdout",
     "output_type": "stream",
     "text": [
      "{'name': 'mamatha', 'english': 60, 'hindi': 80, 'science': 95, 'social': 80}\n"
     ]
    }
   ],
   "source": [
    "print(student_marks)\n"
   ]
  },
  {
   "cell_type": "code",
   "execution_count": 68,
   "metadata": {},
   "outputs": [
    {
     "name": "stdout",
     "output_type": "stream",
     "text": [
      "dict_keys(['name', 'english', 'hindi', 'science', 'social'])\n"
     ]
    }
   ],
   "source": [
    "print(student_marks.keys())"
   ]
  },
  {
   "cell_type": "code",
   "execution_count": 75,
   "metadata": {},
   "outputs": [
    {
     "name": "stdout",
     "output_type": "stream",
     "text": [
      "dict_values(['mamatha', 60, 80, 95, 80])\n"
     ]
    }
   ],
   "source": [
    "print(student_marks.values())"
   ]
  },
  {
   "cell_type": "code",
   "execution_count": null,
   "metadata": {},
   "outputs": [],
   "source": []
  },
  {
   "cell_type": "code",
   "execution_count": null,
   "metadata": {},
   "outputs": [],
   "source": []
  }
 ],
 "metadata": {
  "kernelspec": {
   "display_name": "Python 3",
   "language": "python",
   "name": "python3"
  },
  "language_info": {
   "codemirror_mode": {
    "name": "ipython",
    "version": 3
   },
   "file_extension": ".py",
   "mimetype": "text/x-python",
   "name": "python",
   "nbconvert_exporter": "python",
   "pygments_lexer": "ipython3",
   "version": "3.7.3"
  }
 },
 "nbformat": 4,
 "nbformat_minor": 2
}
